{
 "cells": [
  {
   "cell_type": "code",
   "execution_count": 1,
   "metadata": {
    "collapsed": false
   },
   "outputs": [],
   "source": [
    "import psycopg2"
   ]
  },
  {
   "cell_type": "code",
   "execution_count": 2,
   "metadata": {
    "collapsed": true
   },
   "outputs": [],
   "source": [
    "conn = psycopg2.connect(\"dbname=postgres user=postgres\")"
   ]
  },
  {
   "cell_type": "code",
   "execution_count": 4,
   "metadata": {
    "collapsed": true
   },
   "outputs": [],
   "source": [
    "adam = \"tesgt\""
   ]
  },
  {
   "cell_type": "code",
   "execution_count": 5,
   "metadata": {
    "collapsed": false
   },
   "outputs": [
    {
     "data": {
      "text/plain": [
       "'tesgt'"
      ]
     },
     "execution_count": 5,
     "metadata": {},
     "output_type": "execute_result"
    }
   ],
   "source": [
    "adam"
   ]
  },
  {
   "cell_type": "markdown",
   "metadata": {},
   "source": [
    "## Get one submission"
   ]
  },
  {
   "cell_type": "code",
   "execution_count": 3,
   "metadata": {
    "collapsed": false
   },
   "outputs": [
    {
     "data": {
      "text/plain": [
       "(23,\n",
       " datetime.datetime(2016, 3, 30, 14, 54, 17, 164977, tzinfo=psycopg2.tz.FixedOffsetTimezone(offset=-360, name=None)),\n",
       " 'TEST-49D5-4CAD-AE42-E5CE922A3346',\n",
       " {'mood cateogry': 'fine', 'mood image': '6', 'mood scale': '2'},\n",
       " datetime.datetime(2016, 3, 30, 14, 54, 17, 142632, tzinfo=psycopg2.tz.FixedOffsetTimezone(offset=-360, name=None)),\n",
       " datetime.datetime(2016, 3, 30, 14, 54, 17, 142617, tzinfo=psycopg2.tz.FixedOffsetTimezone(offset=-360, name=None)),\n",
       " 2,\n",
       " 39.1490189,\n",
       " -105.9249464,\n",
       " None)"
      ]
     },
     "execution_count": 3,
     "metadata": {},
     "output_type": "execute_result"
    }
   ],
   "source": [
    "cur = conn.cursor()\n",
    "cur.execute(\"SELECT * FROM core_submission;\")\n",
    "cur.fetchone()"
   ]
  },
  {
   "cell_type": "markdown",
   "metadata": {},
   "source": [
    "## Use the JSON data as criteria\n",
    "Check for existance"
   ]
  },
  {
   "cell_type": "code",
   "execution_count": 10,
   "metadata": {
    "collapsed": false
   },
   "outputs": [
    {
     "data": {
      "text/plain": [
       "(4,\n",
       " datetime.datetime(2016, 1, 2, 7, 57, 4, 243757, tzinfo=psycopg2.tz.FixedOffsetTimezone(offset=-420, name=None)),\n",
       " 'adfasdfasdf',\n",
       " {'mood': 'pretty good', 'wake_up_time': '7:10:00am'},\n",
       " datetime.datetime(2016, 1, 2, 7, 57, 4, 243757, tzinfo=psycopg2.tz.FixedOffsetTimezone(offset=-420, name=None)),\n",
       " datetime.datetime(2016, 1, 2, 7, 57, 4, 243757, tzinfo=psycopg2.tz.FixedOffsetTimezone(offset=-420, name=None)),\n",
       " 1)"
      ]
     },
     "execution_count": 10,
     "metadata": {},
     "output_type": "execute_result"
    }
   ],
   "source": [
    "cur = conn.cursor()\n",
    "cur.execute(\"SELECT * FROM core_submission WHERE response ? 'mood'\")\n",
    "cur.fetchone()\n"
   ]
  },
  {
   "cell_type": "code",
   "execution_count": null,
   "metadata": {
    "collapsed": true
   },
   "outputs": [],
   "source": [
    "\n"
   ]
  }
 ],
 "metadata": {
  "kernelspec": {
   "display_name": "Python 3",
   "language": "python",
   "name": "python3"
  },
  "language_info": {
   "codemirror_mode": {
    "name": "ipython",
    "version": 3
   },
   "file_extension": ".py",
   "mimetype": "text/x-python",
   "name": "python",
   "nbconvert_exporter": "python",
   "pygments_lexer": "ipython3",
   "version": "3.4.4"
  }
 },
 "nbformat": 4,
 "nbformat_minor": 0
}
