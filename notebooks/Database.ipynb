{
 "cells": [
  {
   "cell_type": "code",
   "execution_count": 1,
   "metadata": {
    "collapsed": false
   },
   "outputs": [],
   "source": [
    "import psycopg2"
   ]
  },
  {
   "cell_type": "code",
   "execution_count": 3,
   "metadata": {
    "collapsed": true
   },
   "outputs": [],
   "source": [
    "conn = psycopg2.connect(\"dbname=postgres user=postgres\")"
   ]
  },
  {
   "cell_type": "markdown",
   "metadata": {},
   "source": [
    "## Get one submission"
   ]
  },
  {
   "cell_type": "code",
   "execution_count": 7,
   "metadata": {
    "collapsed": false
   },
   "outputs": [
    {
     "data": {
      "text/plain": [
       "(4,\n",
       " datetime.datetime(2016, 1, 2, 7, 57, 4, 243757, tzinfo=psycopg2.tz.FixedOffsetTimezone(offset=-420, name=None)),\n",
       " 'adfasdfasdf',\n",
       " {'mood': 'pretty good', 'wake_up_time': '7:10:00am'},\n",
       " datetime.datetime(2016, 1, 2, 7, 57, 4, 243757, tzinfo=psycopg2.tz.FixedOffsetTimezone(offset=-420, name=None)),\n",
       " datetime.datetime(2016, 1, 2, 7, 57, 4, 243757, tzinfo=psycopg2.tz.FixedOffsetTimezone(offset=-420, name=None)),\n",
       " 1)"
      ]
     },
     "execution_count": 7,
     "metadata": {},
     "output_type": "execute_result"
    }
   ],
   "source": [
    "cur = conn.cursor()\n",
    "cur.execute(\"SELECT * FROM core_submission;\")\n",
    "cur.fetchone()"
   ]
  },
  {
   "cell_type": "markdown",
   "metadata": {},
   "source": [
    "## Use the JSON data as criteria\n",
    "Check for existance"
   ]
  },
  {
   "cell_type": "code",
   "execution_count": 10,
   "metadata": {
    "collapsed": false
   },
   "outputs": [
    {
     "data": {
      "text/plain": [
       "(4,\n",
       " datetime.datetime(2016, 1, 2, 7, 57, 4, 243757, tzinfo=psycopg2.tz.FixedOffsetTimezone(offset=-420, name=None)),\n",
       " 'adfasdfasdf',\n",
       " {'mood': 'pretty good', 'wake_up_time': '7:10:00am'},\n",
       " datetime.datetime(2016, 1, 2, 7, 57, 4, 243757, tzinfo=psycopg2.tz.FixedOffsetTimezone(offset=-420, name=None)),\n",
       " datetime.datetime(2016, 1, 2, 7, 57, 4, 243757, tzinfo=psycopg2.tz.FixedOffsetTimezone(offset=-420, name=None)),\n",
       " 1)"
      ]
     },
     "execution_count": 10,
     "metadata": {},
     "output_type": "execute_result"
    }
   ],
   "source": [
    "cur = conn.cursor()\n",
    "cur.execute(\"SELECT * FROM core_submission WHERE response ? 'mood'\")\n",
    "cur.fetchone()\n"
   ]
  },
  {
   "cell_type": "code",
   "execution_count": null,
   "metadata": {
    "collapsed": true
   },
   "outputs": [],
   "source": [
    "\n"
   ]
  }
 ],
 "metadata": {
  "kernelspec": {
   "display_name": "Python 3",
   "language": "python",
   "name": "python3"
  },
  "language_info": {
   "codemirror_mode": {
    "name": "ipython",
    "version": 3
   },
   "file_extension": ".py",
   "mimetype": "text/x-python",
   "name": "python",
   "nbconvert_exporter": "python",
   "pygments_lexer": "ipython3",
   "version": "3.4.4"
  }
 },
 "nbformat": 4,
 "nbformat_minor": 0
}
