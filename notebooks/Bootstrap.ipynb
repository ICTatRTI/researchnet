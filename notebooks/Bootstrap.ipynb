{
 "cells": [
  {
   "cell_type": "markdown",
   "metadata": {},
   "source": [
    "## Install additional modules\n",
    "This is necessary only because we are using a docker image from jupter called 'docker-stacks' that doesn't including pymongo, so we just have to do this."
   ]
  },
  {
   "cell_type": "code",
   "execution_count": 3,
   "metadata": {
    "collapsed": false
   },
   "outputs": [
    {
     "name": "stdout",
     "output_type": "stream",
     "text": [
      "Collecting pymongo\n",
      "  Downloading pymongo-3.2.tar.gz (473kB)\n",
      "\u001b[K    100% |################################| 475kB 28kB/s \n",
      "\u001b[?25hBuilding wheels for collected packages: pymongo\n",
      "  Running setup.py bdist_wheel for pymongo\n",
      "  Stored in directory: /home/jovyan/.cache/pip/wheels/65/cf/f8/11528294ac42d33c8d12b24a3047684d39cf9eb266adbe0b0d\n",
      "Successfully built pymongo\n",
      "Installing collected packages: pymongo\n",
      "Successfully installed pymongo-3.2\n",
      "Collecting mongoengine\n",
      "  Downloading mongoengine-0.10.5.tar.gz (345kB)\n",
      "\u001b[K    100% |################################| 348kB 46kB/s \n",
      "\u001b[?25hRequirement already satisfied (use --upgrade to upgrade): pymongo>=2.7.1 in /opt/conda/lib/python3.4/site-packages (from mongoengine)\n",
      "Building wheels for collected packages: mongoengine\n",
      "  Running setup.py bdist_wheel for mongoengine\n",
      "  Stored in directory: /home/jovyan/.cache/pip/wheels/ec/a9/25/18ff0820fc8e20e6d6f88ae3c6bada6194d9a48ace852bb409\n",
      "Successfully built mongoengine\n",
      "Installing collected packages: mongoengine\n",
      "Successfully installed mongoengine-0.10.5\n"
     ]
    }
   ],
   "source": [
    "!pip install pymongo\n",
    "!pip install mongoengine"
   ]
  },
  {
   "cell_type": "markdown",
   "metadata": {},
   "source": [
    "## Load Data\n",
    "The step step here is to generate some sample data.  Feel free to adjust this as needed."
   ]
  },
  {
   "cell_type": "code",
   "execution_count": 40,
   "metadata": {
    "collapsed": false
   },
   "outputs": [],
   "source": [
    "# Import the required module\n",
    "from pymongo import MongoClient\n",
    "\n",
    "c = MongoClient(\"mongo\")\n",
    "db = c.main_study\n",
    "submission = db.submission"
   ]
  },
  {
   "cell_type": "markdown",
   "metadata": {},
   "source": [
    "### Drop"
   ]
  },
  {
   "cell_type": "code",
   "execution_count": 41,
   "metadata": {
    "collapsed": false
   },
   "outputs": [],
   "source": [
    "db.submission.drop()"
   ]
  },
  {
   "cell_type": "code",
   "execution_count": 43,
   "metadata": {
    "collapsed": false
   },
   "outputs": [],
   "source": [
    "# Make up some data\n",
    "\n",
    "from datetime import datetime, timedelta\n",
    "import random\n",
    "\n",
    "# fake\n",
    "users = ['alfazo', 'bieberhold', 'little_pope', 'buttons', 'lpasteur', 'kevin', 'tommyboy', 'bstreisand', 'captain', 'twain']\n",
    "moods = ['bad', 'awesome', 'hungover', 'fit as a fiddle']\n",
    "\n",
    "for counter, idx in enumerate(range(10)):\n",
    "    \n",
    "    record = {\n",
    "            \"timestamp\": datetime.today() - timedelta(idx),\n",
    "            \"device_id\": random.randint(1000000, 9999999),\n",
    "            \"username\": random.choice(users),\n",
    "            \"geo\": {\n",
    "                \"lat\": 13.4080,\n",
    "                \"lon\": 52.5186\n",
    "              },\n",
    "            \"response\": {\n",
    "                \"mood\": random.choice(moods),\n",
    "                \"wake_up_time\": datetime.today() - timedelta(idx),\n",
    "            }\n",
    "        }\n",
    "    \n",
    "    submission.insert_one(record)\n"
   ]
  },
  {
   "cell_type": "code",
   "execution_count": 44,
   "metadata": {
    "collapsed": false
   },
   "outputs": [
    {
     "name": "stdout",
     "output_type": "stream",
     "text": [
      "{'username': 'kevin', 'geo': {'lon': 52.5186, 'lat': 13.408}, 'device_id': 8053553, '_id': ObjectId('5671d006e8cc390013615a91'), 'response': {'mood': 'hungover', 'wake_up_time': datetime.datetime(2015, 12, 16, 20, 56, 38, 901000)}, 'timestamp': datetime.datetime(2015, 12, 16, 20, 56, 38, 901000)}\n",
      "{'username': 'bieberhold', 'geo': {'lon': 52.5186, 'lat': 13.408}, 'device_id': 9450296, '_id': ObjectId('5671d006e8cc390013615a92'), 'response': {'mood': 'fit as a fiddle', 'wake_up_time': datetime.datetime(2015, 12, 15, 20, 56, 38, 902000)}, 'timestamp': datetime.datetime(2015, 12, 15, 20, 56, 38, 902000)}\n",
      "{'username': 'tommyboy', 'geo': {'lon': 52.5186, 'lat': 13.408}, 'device_id': 6937875, '_id': ObjectId('5671d006e8cc390013615a93'), 'response': {'mood': 'bad', 'wake_up_time': datetime.datetime(2015, 12, 14, 20, 56, 38, 903000)}, 'timestamp': datetime.datetime(2015, 12, 14, 20, 56, 38, 903000)}\n",
      "{'username': 'kevin', 'geo': {'lon': 52.5186, 'lat': 13.408}, 'device_id': 5368208, '_id': ObjectId('5671d006e8cc390013615a94'), 'response': {'mood': 'bad', 'wake_up_time': datetime.datetime(2015, 12, 13, 20, 56, 38, 903000)}, 'timestamp': datetime.datetime(2015, 12, 13, 20, 56, 38, 903000)}\n",
      "{'username': 'alfazo', 'geo': {'lon': 52.5186, 'lat': 13.408}, 'device_id': 8539215, '_id': ObjectId('5671d006e8cc390013615a95'), 'response': {'mood': 'awesome', 'wake_up_time': datetime.datetime(2015, 12, 12, 20, 56, 38, 903000)}, 'timestamp': datetime.datetime(2015, 12, 12, 20, 56, 38, 903000)}\n"
     ]
    }
   ],
   "source": [
    "# preview what we have here\n",
    "\n",
    "for record in submission.find().limit(5):\n",
    "    print(record)"
   ]
  },
  {
   "cell_type": "code",
   "execution_count": null,
   "metadata": {
    "collapsed": true
   },
   "outputs": [],
   "source": []
  },
  {
   "cell_type": "markdown",
   "metadata": {},
   "source": [
    "# Mongo Engine"
   ]
  },
  {
   "cell_type": "code",
   "execution_count": 11,
   "metadata": {
    "collapsed": false
   },
   "outputs": [],
   "source": [
    "from mongoengine import connect, Document, StringField, DateTimeField"
   ]
  },
  {
   "cell_type": "code",
   "execution_count": 45,
   "metadata": {
    "collapsed": false
   },
   "outputs": [
    {
     "data": {
      "text/plain": [
       "MongoClient(host=['mongo:27017'], document_class=dict, tz_aware=False, connect=True, read_preference=Primary())"
      ]
     },
     "execution_count": 45,
     "metadata": {},
     "output_type": "execute_result"
    }
   ],
   "source": [
    "connect('main_study', host='mongo')"
   ]
  },
  {
   "cell_type": "markdown",
   "metadata": {},
   "source": [
    "### Define the model"
   ]
  },
  {
   "cell_type": "code",
   "execution_count": 46,
   "metadata": {
    "collapsed": false
   },
   "outputs": [],
   "source": [
    "class Submission(Document):\n",
    "    username = StringField()\n",
    "    geo = StringField()\n",
    "    timestamp = DateTimeField()\n",
    "    device_id = StringField()\n",
    "    response = StringField()"
   ]
  },
  {
   "cell_type": "markdown",
   "metadata": {},
   "source": [
    "### Query the database"
   ]
  },
  {
   "cell_type": "code",
   "execution_count": 48,
   "metadata": {
    "collapsed": false
   },
   "outputs": [
    {
     "name": "stdout",
     "output_type": "stream",
     "text": [
      "{'lon': 52.5186, 'lat': 13.408}\n",
      "{'lon': 52.5186, 'lat': 13.408}\n",
      "{'lon': 52.5186, 'lat': 13.408}\n",
      "{'lon': 52.5186, 'lat': 13.408}\n",
      "{'lon': 52.5186, 'lat': 13.408}\n",
      "{'lon': 52.5186, 'lat': 13.408}\n",
      "{'lon': 52.5186, 'lat': 13.408}\n",
      "{'lon': 52.5186, 'lat': 13.408}\n",
      "{'lon': 52.5186, 'lat': 13.408}\n",
      "{'lon': 52.5186, 'lat': 13.408}\n"
     ]
    }
   ],
   "source": [
    "for submission in Submission.objects:\n",
    "    print(submission.geo)"
   ]
  },
  {
   "cell_type": "code",
   "execution_count": null,
   "metadata": {
    "collapsed": true
   },
   "outputs": [],
   "source": []
  }
 ],
 "metadata": {
  "kernelspec": {
   "display_name": "Python 3",
   "language": "python",
   "name": "python3"
  },
  "language_info": {
   "codemirror_mode": {
    "name": "ipython",
    "version": 3
   },
   "file_extension": ".py",
   "mimetype": "text/x-python",
   "name": "python",
   "nbconvert_exporter": "python",
   "pygments_lexer": "ipython3",
   "version": "3.4.3"
  }
 },
 "nbformat": 4,
 "nbformat_minor": 0
}
