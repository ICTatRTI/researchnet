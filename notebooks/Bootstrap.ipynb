{
 "cells": [
  {
   "cell_type": "markdown",
   "metadata": {},
   "source": [
    "## Use the API to create some test data\n"
   ]
  },
  {
   "cell_type": "code",
   "execution_count": 2,
   "metadata": {
    "collapsed": false
   },
   "outputs": [],
   "source": [
    "import requests\n"
   ]
  },
  {
   "cell_type": "code",
   "execution_count": 95,
   "metadata": {
    "collapsed": false
   },
   "outputs": [],
   "source": [
    "payload = {'username': 'researcher', 'password':'1234thumbwar'}\n",
    "url = 'http://web:8000/api-token-auth/'\n",
    "r = requests.post(url, json=payload)\n"
   ]
  },
  {
   "cell_type": "code",
   "execution_count": 96,
   "metadata": {
    "collapsed": false
   },
   "outputs": [
    {
     "data": {
      "text/plain": [
       "'b782d0d094247566f1ce360e96ae5b9f28241a30'"
      ]
     },
     "execution_count": 96,
     "metadata": {},
     "output_type": "execute_result"
    }
   ],
   "source": [
    "r.json()['token']"
   ]
  },
  {
   "cell_type": "markdown",
   "metadata": {},
   "source": [
    "### Make up some stuff"
   ]
  },
  {
   "cell_type": "code",
   "execution_count": 50,
   "metadata": {
    "collapsed": false
   },
   "outputs": [],
   "source": [
    "import random\n",
    "\n",
    "first_names = ['Pat', 'Jessie', 'Same', 'Sue', 'Chris', 'Piper']\n",
    "last_names = ['Smith', 'Jones', 'Roberts', 'Walters', 'Thomas']\n",
    "gender_options = ['Male', 'Female']\n"
   ]
  },
  {
   "cell_type": "code",
   "execution_count": 58,
   "metadata": {
    "collapsed": true
   },
   "outputs": [],
   "source": [
    "from random import randrange\n",
    "from datetime import timedelta, datetime\n",
    "\n",
    "def random_date(start, end):\n",
    "    \"\"\"\n",
    "    This function will return a random datetime between two datetime \n",
    "    objects.\n",
    "    \"\"\"\n",
    "    delta = end - start\n",
    "    int_delta = (delta.days * 24 * 60 * 60) + delta.seconds\n",
    "    random_second = randrange(int_delta)\n",
    "    return start + timedelta(seconds=random_second)"
   ]
  },
  {
   "cell_type": "code",
   "execution_count": 62,
   "metadata": {
    "collapsed": false
   },
   "outputs": [],
   "source": [
    "d1 = datetime.strptime('1/1/1967', '%m/%d/%Y')\n",
    "d2 = datetime.strptime('1/1/1987', '%m/%d/%Y')"
   ]
  },
  {
   "cell_type": "code",
   "execution_count": 63,
   "metadata": {
    "collapsed": false
   },
   "outputs": [],
   "source": []
  },
  {
   "cell_type": "markdown",
   "metadata": {},
   "source": [
    "## Load Enrollments\n",
    "The step step here is to generate some sample data.  Feel free to adjust this as needed."
   ]
  },
  {
   "cell_type": "code",
   "execution_count": 144,
   "metadata": {
    "collapsed": true
   },
   "outputs": [],
   "source": [
    "\n",
    "#url = 'http://web:8000/participant/'\n",
    "url = 'https://researchnet.ictedge.org/participant/'\n",
    "\n",
    "#submission_url = 'http://web:8000/submission/'\n",
    "submission_url = 'https://researchnet.ictedge.org/submission/'\n",
    "\n",
    "#auth_url = 'http://web:8000/api-token-auth/'\n",
    "auth_url = 'https://researchnet.ictedge.org/api-token-auth/'\n"
   ]
  },
  {
   "cell_type": "code",
   "execution_count": 135,
   "metadata": {
    "collapsed": false
   },
   "outputs": [],
   "source": [
    "for i in range(10):\n",
    "    random_birthday = random_date(d1, d2)\n",
    "    payload = {'username': 'testuser'+str(i), \n",
    "               'password':'testpassword', \n",
    "               'first_name': random.choice(first_names),\n",
    "               'last_name': random.choice(last_names),\n",
    "               'email': 'fakeemail@rti.org',\n",
    "               'dob': str(random_birthday.strftime('%Y-%m-%d')),\n",
    "               'gender': random.choice(gender_options),\n",
    "              }\n",
    "    \n",
    "    r = requests.post(url, json=payload)\n",
    " "
   ]
  },
  {
   "cell_type": "markdown",
   "metadata": {},
   "source": [
    "## Load Submissions"
   ]
  },
  {
   "cell_type": "code",
   "execution_count": 100,
   "metadata": {
    "collapsed": true
   },
   "outputs": [],
   "source": []
  },
  {
   "cell_type": "code",
   "execution_count": 137,
   "metadata": {
    "collapsed": true
   },
   "outputs": [],
   "source": [
    "# Randomize test data (its more interesting this way)\n",
    "moods_category = ['good', 'bad', 'fine', 'unsure', 'no response', 'asleep']\n",
    "mood_scale = ['1','2','3','4','5','6','7','8','9','0']\n",
    "mood_image = ['1','2','3','4','5','6','7','8','9','0']"
   ]
  },
  {
   "cell_type": "code",
   "execution_count": 145,
   "metadata": {
    "collapsed": false
   },
   "outputs": [],
   "source": [
    "\n",
    "\n",
    "# loop through the same participants loaded earlier\n",
    "for i in range(10):\n",
    "    \n",
    "    # Get the token\n",
    "    auth_payload = {'username': 'testuser'+str(i), 'password':'testpassword'}\n",
    "    r_auth = requests.post(auth_url, json=auth_payload)\n",
    "    auth_token = r_auth.json()['token']\n",
    "    \n",
    "    for y in range(random.randrange(1, 10, 2)):\n",
    "        headers = {'Authorization': 'Token '+auth_token }\n",
    "        submission_payload = {'device_id': 'TEST-49D5-4CAD-AE42-E5CE922A3346', \n",
    "           'response': { \n",
    "                'mood cateogry': random.choice(moods_category),\n",
    "                'mood scale': random.choice(mood_scale),\n",
    "                'mood image': random.choice(mood_image)\n",
    "            }\n",
    "        }\n",
    "     \n",
    "        r_sub = requests.post(submission_url, json=submission_payload, headers=headers)"
   ]
  },
  {
   "cell_type": "code",
   "execution_count": 139,
   "metadata": {
    "collapsed": false
   },
   "outputs": [
    {
     "data": {
      "text/plain": [
       "{'device_id': 'TEST-49D5-4CAD-AE42-E5CE922A3346',\n",
       " 'id': 101,\n",
       " 'response': {'mood cateogry': 'asleep', 'mood image': '2', 'mood scale': '6'},\n",
       " 'time_complete': '2016-03-24T14:37:44.643891',\n",
       " 'time_start': '2016-03-24T14:37:44.643880',\n",
       " 'timestamp': '2016-03-24T20:37:44.644375Z',\n",
       " 'user': 'testuser9'}"
      ]
     },
     "execution_count": 139,
     "metadata": {},
     "output_type": "execute_result"
    }
   ],
   "source": [
    "r.json()"
   ]
  },
  {
   "cell_type": "code",
   "execution_count": null,
   "metadata": {
    "collapsed": true
   },
   "outputs": [],
   "source": []
  }
 ],
 "metadata": {
  "kernelspec": {
   "display_name": "Python 3",
   "language": "python",
   "name": "python3"
  },
  "language_info": {
   "codemirror_mode": {
    "name": "ipython",
    "version": 3
   },
   "file_extension": ".py",
   "mimetype": "text/x-python",
   "name": "python",
   "nbconvert_exporter": "python",
   "pygments_lexer": "ipython3",
   "version": "3.4.3"
  }
 },
 "nbformat": 4,
 "nbformat_minor": 0
}
