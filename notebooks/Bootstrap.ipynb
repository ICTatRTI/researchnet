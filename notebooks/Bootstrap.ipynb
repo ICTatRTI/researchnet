{
 "cells": [
  {
   "cell_type": "markdown",
   "metadata": {},
   "source": [
    "## Install additional modules\n",
    "This is necessary only because we are using a docker image from jupter called 'docker-stacks' that doesn't including pymongo, so we just have to do this."
   ]
  },
  {
   "cell_type": "code",
   "execution_count": 3,
   "metadata": {
    "collapsed": false
   },
   "outputs": [
    {
     "name": "stdout",
     "output_type": "stream",
     "text": [
      "Collecting pymongo\n",
      "  Downloading pymongo-3.1.tar.gz (462kB)\n",
      "\u001b[K    100% |################################| 462kB 1.1MB/s \n",
      "\u001b[?25hBuilding wheels for collected packages: pymongo\n",
      "  Running setup.py bdist_wheel for pymongo\n",
      "  Stored in directory: /home/jovyan/.cache/pip/wheels/ff/e2/06/a1fad5159af59496cf8d70d661a5c584f6258d71a7607d0d73\n",
      "Successfully built pymongo\n",
      "Installing collected packages: pymongo\n",
      "Successfully installed pymongo-3.1\n"
     ]
    }
   ],
   "source": [
    "!pip install pymongo"
   ]
  },
  {
   "cell_type": "markdown",
   "metadata": {},
   "source": [
    "## Load Data\n",
    "The step step here is to generate some sample data.  Feel free to adjust this as needed."
   ]
  },
  {
   "cell_type": "code",
   "execution_count": 1,
   "metadata": {
    "collapsed": false
   },
   "outputs": [],
   "source": [
    "# Import the required module\n",
    "from pymongo import MongoClient\n",
    "\n",
    "c = MongoClient(\"mongo.local\")\n",
    "db = c.survey_responses\n",
    "main_study = db.main_study"
   ]
  },
  {
   "cell_type": "code",
   "execution_count": 9,
   "metadata": {
    "collapsed": false
   },
   "outputs": [],
   "source": [
    "# Make up some data\n",
    "\n",
    "from datetime import datetime, timedelta\n",
    "import random\n",
    "\n",
    "# fake\n",
    "users = ['alfazo', 'bieberhold', 'little_pope', 'buttons', 'lpasteur', 'kevin', 'tommyboy', 'bstreisand', 'captain', 'twain']\n",
    "\n",
    "for counter, idx in enumerate(range(10)):\n",
    "    \n",
    "    record = {\n",
    "            \"timestamp\": datetime.today() - timedelta(idx),\n",
    "            \"device_id\": random.randint(1000000, 9999999),\n",
    "            \"username\": random.choice(users),\n",
    "            \"geo\": {\n",
    "                \"lat\": 13.4080,\n",
    "                \"lon\": 52.5186\n",
    "              }\n",
    "        }\n",
    "    \n",
    "    main_study.insert_one(record)\n"
   ]
  },
  {
   "cell_type": "code",
   "execution_count": 4,
   "metadata": {
    "collapsed": false
   },
   "outputs": [
    {
     "name": "stdout",
     "output_type": "stream",
     "text": [
      "{'geo': {'lat': 13.408, 'lon': 52.5186}, 'username': 'alfazo', '_id': ObjectId('5642787b90bd160018d41bd6'), 'device_id': 2599845, 'timestamp': datetime.datetime(2015, 11, 10, 23, 6, 35, 589000)}\n",
      "{'geo': {'lat': 13.408, 'lon': 52.5186}, 'username': 'twain', '_id': ObjectId('5642787c90bd160018d41bd7'), 'device_id': 8861825, 'timestamp': datetime.datetime(2015, 11, 9, 23, 6, 36, 104000)}\n",
      "{'geo': {'lat': 13.408, 'lon': 52.5186}, 'username': 'twain', '_id': ObjectId('5642787c90bd160018d41bd8'), 'device_id': 3871054, 'timestamp': datetime.datetime(2015, 11, 8, 23, 6, 36, 104000)}\n",
      "{'geo': {'lat': 13.408, 'lon': 52.5186}, 'username': 'captain', '_id': ObjectId('5642787c90bd160018d41bd9'), 'device_id': 4386132, 'timestamp': datetime.datetime(2015, 11, 7, 23, 6, 36, 105000)}\n",
      "{'geo': {'lat': 13.408, 'lon': 52.5186}, 'username': 'buttons', '_id': ObjectId('5642787c90bd160018d41bda'), 'device_id': 5221894, 'timestamp': datetime.datetime(2015, 11, 6, 23, 6, 36, 105000)}\n"
     ]
    }
   ],
   "source": [
    "# preview what we have here\n",
    "\n",
    "for record in main_study.find().limit(5):\n",
    "    print(record)"
   ]
  },
  {
   "cell_type": "code",
   "execution_count": null,
   "metadata": {
    "collapsed": true
   },
   "outputs": [],
   "source": []
  }
 ],
 "metadata": {
  "kernelspec": {
   "display_name": "Python 3",
   "language": "python",
   "name": "python3"
  },
  "language_info": {
   "codemirror_mode": {
    "name": "ipython",
    "version": 3
   },
   "file_extension": ".py",
   "mimetype": "text/x-python",
   "name": "python",
   "nbconvert_exporter": "python",
   "pygments_lexer": "ipython3",
   "version": "3.4.3"
  }
 },
 "nbformat": 4,
 "nbformat_minor": 0
}
