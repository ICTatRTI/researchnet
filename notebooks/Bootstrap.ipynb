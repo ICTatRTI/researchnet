{
 "cells": [
  {
   "cell_type": "markdown",
   "metadata": {},
   "source": [
    "## Install additional modules\n",
    "This is necessary only because we are using a docker image from jupter called 'docker-stacks' that doesn't including pymongo, so we just have to do this."
   ]
  },
  {
   "cell_type": "code",
   "execution_count": 6,
   "metadata": {
    "collapsed": false
   },
   "outputs": [
    {
     "name": "stdout",
     "output_type": "stream",
     "text": [
      "Requirement already satisfied (use --upgrade to upgrade): pymongo in /opt/conda/lib/python3.4/site-packages\n",
      "Collecting mongoengine\n",
      "  Downloading mongoengine-0.10.5.tar.gz (345kB)\n",
      "\u001b[K    100% |################################| 348kB 194kB/s \n",
      "\u001b[?25hRequirement already satisfied (use --upgrade to upgrade): pymongo>=2.7.1 in /opt/conda/lib/python3.4/site-packages (from mongoengine)\n",
      "Building wheels for collected packages: mongoengine\n",
      "  Running setup.py bdist_wheel for mongoengine\n",
      "  Stored in directory: /home/jovyan/.cache/pip/wheels/ec/a9/25/18ff0820fc8e20e6d6f88ae3c6bada6194d9a48ace852bb409\n",
      "Successfully built mongoengine\n",
      "Installing collected packages: mongoengine\n",
      "Successfully installed mongoengine-0.10.5\n"
     ]
    }
   ],
   "source": [
    "!pip install pymongo\n",
    "!pip install mongoengine"
   ]
  },
  {
   "cell_type": "markdown",
   "metadata": {},
   "source": [
    "## Load Data\n",
    "The step step here is to generate some sample data.  Feel free to adjust this as needed."
   ]
  },
  {
   "cell_type": "code",
   "execution_count": 12,
   "metadata": {
    "collapsed": false
   },
   "outputs": [],
   "source": [
    "# Import the required module\n",
    "from pymongo import MongoClient\n",
    "\n",
    "c = MongoClient(\"mongo\")\n",
    "db = c.main_study\n",
    "response = db.response"
   ]
  },
  {
   "cell_type": "code",
   "execution_count": 13,
   "metadata": {
    "collapsed": false
   },
   "outputs": [],
   "source": [
    "# Make up some data\n",
    "\n",
    "from datetime import datetime, timedelta\n",
    "import random\n",
    "\n",
    "# fake\n",
    "users = ['alfazo', 'bieberhold', 'little_pope', 'buttons', 'lpasteur', 'kevin', 'tommyboy', 'bstreisand', 'captain', 'twain']\n",
    "\n",
    "for counter, idx in enumerate(range(10)):\n",
    "    \n",
    "    record = {\n",
    "            \"timestamp\": datetime.today() - timedelta(idx),\n",
    "            \"device_id\": random.randint(1000000, 9999999),\n",
    "            \"username\": random.choice(users),\n",
    "            \"geo\": {\n",
    "                \"lat\": 13.4080,\n",
    "                \"lon\": 52.5186\n",
    "              }\n",
    "        }\n",
    "    \n",
    "    response.insert_one(record)\n"
   ]
  },
  {
   "cell_type": "code",
   "execution_count": 14,
   "metadata": {
    "collapsed": false
   },
   "outputs": [
    {
     "name": "stdout",
     "output_type": "stream",
     "text": [
      "{'geo': {'lon': 52.5186, 'lat': 13.408}, 'timestamp': datetime.datetime(2015, 12, 16, 19, 22, 12, 28000), 'device_id': 3475006, 'username': 'buttons', '_id': ObjectId('5671b9e4c07f43001312ec68')}\n",
      "{'geo': {'lon': 52.5186, 'lat': 13.408}, 'timestamp': datetime.datetime(2015, 12, 15, 19, 22, 12, 35000), 'device_id': 7299786, 'username': 'little_pope', '_id': ObjectId('5671b9e4c07f43001312ec69')}\n",
      "{'geo': {'lon': 52.5186, 'lat': 13.408}, 'timestamp': datetime.datetime(2015, 12, 14, 19, 22, 12, 35000), 'device_id': 9748881, 'username': 'alfazo', '_id': ObjectId('5671b9e4c07f43001312ec6a')}\n",
      "{'geo': {'lon': 52.5186, 'lat': 13.408}, 'timestamp': datetime.datetime(2015, 12, 13, 19, 22, 12, 36000), 'device_id': 2938920, 'username': 'little_pope', '_id': ObjectId('5671b9e4c07f43001312ec6b')}\n",
      "{'geo': {'lon': 52.5186, 'lat': 13.408}, 'timestamp': datetime.datetime(2015, 12, 12, 19, 22, 12, 36000), 'device_id': 5613267, 'username': 'bstreisand', '_id': ObjectId('5671b9e4c07f43001312ec6c')}\n"
     ]
    }
   ],
   "source": [
    "# preview what we have here\n",
    "\n",
    "for record in response.find().limit(5):\n",
    "    print(record)"
   ]
  },
  {
   "cell_type": "code",
   "execution_count": null,
   "metadata": {
    "collapsed": true
   },
   "outputs": [],
   "source": []
  },
  {
   "cell_type": "code",
   "execution_count": null,
   "metadata": {
    "collapsed": true
   },
   "outputs": [],
   "source": []
  },
  {
   "cell_type": "markdown",
   "metadata": {},
   "source": [
    "# Mongo Engine"
   ]
  },
  {
   "cell_type": "code",
   "execution_count": 25,
   "metadata": {
    "collapsed": false
   },
   "outputs": [],
   "source": [
    "from mongoengine import connect, Document, StringField, DateTimeField"
   ]
  },
  {
   "cell_type": "code",
   "execution_count": 11,
   "metadata": {
    "collapsed": false
   },
   "outputs": [
    {
     "data": {
      "text/plain": [
       "MongoClient(host=['mongo:27017'], document_class=dict, tz_aware=False, connect=True, read_preference=Primary())"
      ]
     },
     "execution_count": 11,
     "metadata": {},
     "output_type": "execute_result"
    }
   ],
   "source": [
    "connect('main_study', host='mongo')"
   ]
  },
  {
   "cell_type": "markdown",
   "metadata": {},
   "source": [
    "### Define the model"
   ]
  },
  {
   "cell_type": "code",
   "execution_count": 28,
   "metadata": {
    "collapsed": false
   },
   "outputs": [],
   "source": [
    "class Response(Document):\n",
    "    username = StringField()\n",
    "    geo = StringField()\n",
    "    timestamp = DateTimeField()\n",
    "    device_id = StringField()"
   ]
  },
  {
   "cell_type": "markdown",
   "metadata": {},
   "source": [
    "### Query the database"
   ]
  },
  {
   "cell_type": "code",
   "execution_count": 29,
   "metadata": {
    "collapsed": false
   },
   "outputs": [
    {
     "name": "stdout",
     "output_type": "stream",
     "text": [
      "buttons\n",
      "little_pope\n",
      "alfazo\n",
      "little_pope\n",
      "bstreisand\n",
      "captain\n",
      "bieberhold\n",
      "buttons\n",
      "little_pope\n",
      "buttons\n"
     ]
    }
   ],
   "source": [
    "for response in Response.objects:\n",
    "    print(response.username)"
   ]
  },
  {
   "cell_type": "code",
   "execution_count": null,
   "metadata": {
    "collapsed": true
   },
   "outputs": [],
   "source": []
  }
 ],
 "metadata": {
  "kernelspec": {
   "display_name": "Python 3",
   "language": "python",
   "name": "python3"
  },
  "language_info": {
   "codemirror_mode": {
    "name": "ipython",
    "version": 3
   },
   "file_extension": ".py",
   "mimetype": "text/x-python",
   "name": "python",
   "nbconvert_exporter": "python",
   "pygments_lexer": "ipython3",
   "version": "3.4.3"
  }
 },
 "nbformat": 4,
 "nbformat_minor": 0
}
