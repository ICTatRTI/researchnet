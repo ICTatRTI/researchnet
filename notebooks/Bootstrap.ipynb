{
 "cells": [
  {
   "cell_type": "markdown",
   "metadata": {},
   "source": [
    "## Use the API to create some test data\n"
   ]
  },
  {
   "cell_type": "code",
   "execution_count": null,
   "metadata": {
    "collapsed": true
   },
   "outputs": [],
   "source": [
    "# Local Docker\n",
    "auth_url = 'http://web:8000/api-token-auth/'\n",
    "participant_url = 'http://web:8000/participant/'\n",
    "submission_url = 'http://web:8000/submission/'"
   ]
  },
  {
   "cell_type": "code",
   "execution_count": 34,
   "metadata": {
    "collapsed": true
   },
   "outputs": [],
   "source": [
    "# AWS (demo)\n",
    "auth_url = 'https://researchnet.ictedge.org/api-token-auth/'\n",
    "participant_url = 'https://researchnet.ictedge.org/participant/'\n",
    "submission_url = 'https://researchnet.ictedge.org/submission/'"
   ]
  },
  {
   "cell_type": "code",
   "execution_count": 21,
   "metadata": {
    "collapsed": true
   },
   "outputs": [],
   "source": [
    "# Local\n",
    "auth_url = 'http://127.0.0.1:8000/api-token-auth/'\n",
    "participant_url = 'http://127.0.0.1:8000/participant/'\n",
    "submission_url = 'http://127.0.0.1:8000/submission/'"
   ]
  },
  {
   "cell_type": "code",
   "execution_count": 35,
   "metadata": {
    "collapsed": false
   },
   "outputs": [],
   "source": [
    "import requests\n",
    "payload = {'username': 'researcher', 'password':'1234thumbwar'}\n",
    "r = requests.post(auth_url, json=payload)\n"
   ]
  },
  {
   "cell_type": "code",
   "execution_count": 36,
   "metadata": {
    "collapsed": false
   },
   "outputs": [
    {
     "data": {
      "text/plain": [
       "'9a1194980e9e15da451d9ab68a5b8801e6704c18'"
      ]
     },
     "execution_count": 36,
     "metadata": {},
     "output_type": "execute_result"
    }
   ],
   "source": [
    "r.json()['token']"
   ]
  },
  {
   "cell_type": "markdown",
   "metadata": {},
   "source": [
    "### Make up some stuff"
   ]
  },
  {
   "cell_type": "code",
   "execution_count": 26,
   "metadata": {
    "collapsed": false
   },
   "outputs": [],
   "source": [
    "import random\n",
    "\n",
    "first_names = ['Pat', 'Jessie', 'Same', 'Sue', 'Chris', 'Piper']\n",
    "last_names = ['Smith', 'Jones', 'Roberts', 'Walters', 'Thomas']\n",
    "gender_options = ['Male', 'Female']\n",
    "\n",
    "# lat/long\n",
    "fake_places = [\n",
    "     (\"40.5895466\", \"-105.0751243\"),\n",
    "     (\"41.5895466\", \"-104.0751243\"),\n",
    "     (\"39.7640021\",\"-105.1353041\"),\n",
    "     (\"38.7640021\",\"-104.1353041\"),\n",
    "     (\"39.7724466\",\"-105.9249464\"),\n",
    "     (\"35.7724466\",\"-103.9249464\"),\n",
    "     (\"39.1490189\",\"-107.1444289\"),\n",
    "     (\"38.1490189\",\"-106.1444289\"),\n",
    "     (\"36.0017455\",\"-79.0249976\"),\n",
    "     (\"37.0017455\",\"-80.0249976\"),\n",
    "     (\"35.9661857\",\"-79.1067084\"),\n",
    "     (\"34.9661857\",\"-78.1067084\"),\n",
    "     (\"45.5423508\",\"-122.7945071\")\n",
    "    ]\n"
   ]
  },
  {
   "cell_type": "code",
   "execution_count": 27,
   "metadata": {
    "collapsed": true
   },
   "outputs": [],
   "source": [
    "from random import randrange\n",
    "from datetime import timedelta, datetime\n",
    "\n",
    "def random_date(start, end):\n",
    "    \"\"\"\n",
    "    This function will return a random datetime between two datetime \n",
    "    objects.\n",
    "    \"\"\"\n",
    "    delta = end - start\n",
    "    int_delta = (delta.days * 24 * 60 * 60) + delta.seconds\n",
    "    random_second = randrange(int_delta)\n",
    "    return start + timedelta(seconds=random_second)"
   ]
  },
  {
   "cell_type": "code",
   "execution_count": 28,
   "metadata": {
    "collapsed": false
   },
   "outputs": [],
   "source": [
    "d1 = datetime.strptime('1/1/1967', '%m/%d/%Y')\n",
    "d2 = datetime.strptime('1/1/1987', '%m/%d/%Y')"
   ]
  },
  {
   "cell_type": "markdown",
   "metadata": {},
   "source": [
    "## Load Enrollments\n",
    "The step step here is to generate some sample data.  Feel free to adjust this as needed."
   ]
  },
  {
   "cell_type": "code",
   "execution_count": 29,
   "metadata": {
    "collapsed": false
   },
   "outputs": [],
   "source": [
    "\n",
    "r_auth = requests.post(auth_url, json=payload)\n",
    "auth_token = r_auth.json()['token']"
   ]
  },
  {
   "cell_type": "code",
   "execution_count": 30,
   "metadata": {
    "collapsed": false
   },
   "outputs": [],
   "source": [
    "# Get the token\n",
    "\n",
    "auth_token = r.json()['token']\n",
    "headers = {'Authorization': 'Token '+auth_token }\n",
    "\n",
    "for i in range(10):\n",
    "    random_birthday = random_date(d1, d2)\n",
    "    payload = {'username': 'testuser'+str(i), \n",
    "               'password':'testpassword', \n",
    "               'first_name': random.choice(first_names),\n",
    "               'last_name': random.choice(last_names),\n",
    "               'email': 'fakeemail@rti.org',\n",
    "               'dob': str(random_birthday.strftime('%Y-%m-%d')),\n",
    "               'gender': random.choice(gender_options),\n",
    "              }\n",
    "    \n",
    "    r = requests.post(participant_url, json=payload, headers=headers)\n",
    "    if r.status_code != 201:\n",
    "        print(\"there is a problem here: \" + str(r.text))"
   ]
  },
  {
   "cell_type": "markdown",
   "metadata": {},
   "source": [
    "## Load Submissions"
   ]
  },
  {
   "cell_type": "code",
   "execution_count": 31,
   "metadata": {
    "collapsed": true
   },
   "outputs": [],
   "source": [
    "# Randomize test data (its more interesting this way)\n",
    "moods_category = ['good', 'bad', 'fine', 'unsure', 'no response', 'asleep']\n",
    "mood_scale = ['1','2','3','4','5','6','7','8','9','0']\n",
    "mood_image = ['1','2','3','4','5','6','7','8','9','0']"
   ]
  },
  {
   "cell_type": "code",
   "execution_count": 32,
   "metadata": {
    "collapsed": false
   },
   "outputs": [],
   "source": [
    "# Define start and end date\n",
    "d1 = datetime.strptime('1/1/2016', '%m/%d/%Y')  \n",
    "d2 = datetime.strptime('6/1/2016', '%m/%d/%Y')"
   ]
  },
  {
   "cell_type": "code",
   "execution_count": 33,
   "metadata": {
    "collapsed": false
   },
   "outputs": [],
   "source": [
    "import random\n",
    "import geocoder\n",
    "\n",
    "# loop through the same participants loaded earlier\n",
    "for i in range(10):\n",
    "    \n",
    "    # Get the token\n",
    "    auth_payload = {'username': 'testuser'+str(i), 'password':'testpassword'}\n",
    "    r_auth = requests.post(auth_url, json=auth_payload)\n",
    "    auth_token = r_auth.json()['token']\n",
    "    \n",
    "\n",
    "    # For each user, give a random number of submissions up to 10\n",
    "    for y in range(random.randrange(1, 10)):\n",
    "        \n",
    "        random_time = random_date(d1, d2)\n",
    "        fake_place = random.choice(fake_places)\n",
    "        g = geocoder.google([fake_place[0], fake_place[1]], method='reverse')\n",
    "\n",
    "        headers = {'Authorization': 'Token '+auth_token }\n",
    "        \n",
    "        # use this format: YYYY-MM-DDThh:mm for timestamp\n",
    "        submission_payload = {\n",
    "            'device_id': 'TEST-49D5-4CAD-AE42-E5CE922A3346', \n",
    "            'time_start': str(random_time.strftime('%Y-%m-%d %T')), \n",
    "            'time_complete': str(random_time.strftime('%Y-%m-%d %T')),\n",
    "            'lat' : fake_place[0],\n",
    "           'long': fake_place[1],   \n",
    "           'place': g.city+\", \"+g.state +\" \"+ g.country,                 \n",
    "           'response': { \n",
    "                'mood cateogry': random.choice(moods_category),\n",
    "                'mood scale': random.choice(mood_scale),\n",
    "                'mood image': random.choice(mood_image)\n",
    "            }\n",
    "        }\n",
    "     \n",
    "        r_sub = requests.post(submission_url, json=submission_payload, headers=headers)\n"
   ]
  },
  {
   "cell_type": "code",
   "execution_count": 31,
   "metadata": {
    "collapsed": false
   },
   "outputs": [
    {
     "data": {
      "text/plain": [
       "'2016-02-08 02:42:28'"
      ]
     },
     "execution_count": 31,
     "metadata": {},
     "output_type": "execute_result"
    }
   ],
   "source": [
    "# YYYY-MM-DDThh:mm for timestamp %H:%M:%S +0000\n",
    "# this works: 2016-03-30 14:54:17.313583-06\n",
    "random_time.strftime('%Y-%m-%d %T')"
   ]
  },
  {
   "cell_type": "markdown",
   "metadata": {},
   "source": [
    "# A note about timestamp\n",
    "if you want to update the timestamp, you'll have to run a seperate sql update: \"update core_submission set timestamp = time_start;\". We intentionally have this set as the time that the record was inserted. The timestart and time complete come from the device"
   ]
  },
  {
   "cell_type": "code",
   "execution_count": 26,
   "metadata": {
    "collapsed": false
   },
   "outputs": [
    {
     "data": {
      "text/plain": [
       "{'device_id': 'TEST-49D5-4CAD-AE42-E5CE922A3346',\n",
       " 'lat': '45.5423508',\n",
       " 'long': '-122.7945071',\n",
       " 'place': 'Portland, OR US',\n",
       " 'response': {'mood cateogry': 'bad', 'mood image': '2', 'mood scale': '8'},\n",
       " 'time_complete': '2016-02-08-02:42:28',\n",
       " 'time_start': '2016-02-08-02:42:28',\n",
       " 'timestamp': '2016-02-08-02:42:28'}"
      ]
     },
     "execution_count": 26,
     "metadata": {},
     "output_type": "execute_result"
    }
   ],
   "source": [
    "submission_payload"
   ]
  },
  {
   "cell_type": "code",
   "execution_count": 25,
   "metadata": {
    "collapsed": false
   },
   "outputs": [
    {
     "data": {
      "text/plain": [
       "'{\"time_complete\":[\"Datetime has wrong format. Use one of these formats instead: YYYY-MM-DDThh:mm[:ss[.uuuuuu]][+HH:MM|-HH:MM|Z].\"],\"time_start\":[\"Datetime has wrong format. Use one of these formats instead: YYYY-MM-DDThh:mm[:ss[.uuuuuu]][+HH:MM|-HH:MM|Z].\"]}'"
      ]
     },
     "execution_count": 25,
     "metadata": {},
     "output_type": "execute_result"
    }
   ],
   "source": [
    "r_sub.text"
   ]
  },
  {
   "cell_type": "code",
   "execution_count": 67,
   "metadata": {
    "collapsed": false
   },
   "outputs": [
    {
     "data": {
      "text/plain": [
       "{'device_id': 'TEST-49D5-4CAD-AE42-E5CE922A3346',\n",
       " 'lat': '37.0017455',\n",
       " 'long': '-80.0249976',\n",
       " 'place': 'Callaway, VA US',\n",
       " 'response': {'mood cateogry': 'no response',\n",
       "  'mood image': '4',\n",
       "  'mood scale': '6'}}"
      ]
     },
     "execution_count": 67,
     "metadata": {},
     "output_type": "execute_result"
    }
   ],
   "source": [
    "submission_payload"
   ]
  },
  {
   "cell_type": "code",
   "execution_count": null,
   "metadata": {
    "collapsed": true
   },
   "outputs": [],
   "source": []
  },
  {
   "cell_type": "code",
   "execution_count": null,
   "metadata": {
    "collapsed": true
   },
   "outputs": [],
   "source": []
  },
  {
   "cell_type": "code",
   "execution_count": null,
   "metadata": {
    "collapsed": true
   },
   "outputs": [],
   "source": []
  },
  {
   "cell_type": "code",
   "execution_count": 57,
   "metadata": {
    "collapsed": true
   },
   "outputs": [],
   "source": [
    "g.city"
   ]
  },
  {
   "cell_type": "code",
   "execution_count": 62,
   "metadata": {
    "collapsed": false
   },
   "outputs": [],
   "source": [
    "\n",
    "import geocoder\n",
    "# 44.5423508 and -121.7945071\n",
    "# 34.8436867 and -75.7851426\n",
    "# 40.5895466, -105.0751243 fort collins\n",
    "g = geocoder.google([34.8436867, -75.7851426], method='reverse')\n",
    "g.city\n"
   ]
  },
  {
   "cell_type": "code",
   "execution_count": 33,
   "metadata": {
    "collapsed": false
   },
   "outputs": [
    {
     "name": "stdout",
     "output_type": "stream",
     "text": [
      "doing: 36.0017455 and -79.0249976\n",
      "Durham, NC US\n",
      "doing: 39.7640021 and -105.1353041\n",
      "Wheat Ridge, CO US\n"
     ]
    }
   ],
   "source": [
    "for i in range(2):\n",
    "    fake = random.choice(fake_places)\n",
    "    g = geocoder.google([fake[0], fake[1]], method='reverse')\n",
    "    print(\"doing: \" + fake[0] +\" and \" + fake[1])\n",
    "    print(g.city+\", \"+g.state +\" \"+ g.country)\n",
    "    "
   ]
  },
  {
   "cell_type": "code",
   "execution_count": 15,
   "metadata": {
    "collapsed": false
   },
   "outputs": [
    {
     "name": "stdout",
     "output_type": "stream",
     "text": [
      "adam preston\n"
     ]
    }
   ],
   "source": [
    "name = \"adam\"\n",
    "last = \"preston\"\n",
    "print(name+\" \"+last)"
   ]
  },
  {
   "cell_type": "code",
   "execution_count": 22,
   "metadata": {
    "collapsed": false
   },
   "outputs": [
    {
     "name": "stdout",
     "output_type": "stream",
     "text": [
      "US\n"
     ]
    }
   ],
   "source": [
    "print(g.country)"
   ]
  },
  {
   "cell_type": "code",
   "execution_count": 25,
   "metadata": {
    "collapsed": false
   },
   "outputs": [],
   "source": [
    " test = random.choice(fake_places)"
   ]
  },
  {
   "cell_type": "code",
   "execution_count": 26,
   "metadata": {
    "collapsed": false
   },
   "outputs": [
    {
     "data": {
      "text/plain": [
       "'-104.0751243'"
      ]
     },
     "execution_count": 26,
     "metadata": {},
     "output_type": "execute_result"
    }
   ],
   "source": [
    "test[1]"
   ]
  },
  {
   "cell_type": "code",
   "execution_count": null,
   "metadata": {
    "collapsed": true
   },
   "outputs": [],
   "source": []
  }
 ],
 "metadata": {
  "kernelspec": {
   "display_name": "Python 3",
   "language": "python",
   "name": "python3"
  },
  "language_info": {
   "codemirror_mode": {
    "name": "ipython",
    "version": 3
   },
   "file_extension": ".py",
   "mimetype": "text/x-python",
   "name": "python",
   "nbconvert_exporter": "python",
   "pygments_lexer": "ipython3",
   "version": "3.4.4"
  }
 },
 "nbformat": 4,
 "nbformat_minor": 0
}
